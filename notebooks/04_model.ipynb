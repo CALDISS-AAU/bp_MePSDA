{
 "cells": [
  {
   "cell_type": "code",
   "execution_count": 1,
   "metadata": {},
   "outputs": [],
   "source": [
    "# importing packages\n",
    "\n",
    "# Basic python packages\n",
    "import pandas as pd\n",
    "import numpy as np\n",
    "import bertopic\n",
    "import os\n",
    "\n",
    "# BERTopic related\n",
    "from bertopic import BERTopic\n",
    "from bertopic.representation import KeyBERTInspired\n",
    "from umap import UMAP\n",
    "from hdbscan import HDBSCAN\n",
    "from sklearn.feature_extraction.text import CountVectorizer\n",
    "\n",
    "# Transformers packages\n",
    "from sentence_transformers import SentenceTransformer\n",
    "import transformers\n",
    "# handle parallelism for tokenizer\n",
    "os.environ[\"TOKENIZERS_PARALLELISM\"] = \"false\"\n",
    "\n",
    "# SpaCy\n",
    "import spacy\n",
    "from spacy.lang.da import Danish\n",
    "\n",
    "# viz packages\n",
    "import matplotlib.pyplot as plt"
   ]
  },
  {
   "cell_type": "code",
   "execution_count": 5,
   "metadata": {},
   "outputs": [],
   "source": [
    "# importing Spacy Stopwords\n",
    "nlp = Danish()\n",
    "stop_words = list(nlp.Defaults.stop_words)\n",
    "stop_words.extend(['originalartiklen', 'originalartikel',\n",
    "'ea670633','Originalartiklen',\n",
    "'øh','øhm',\n",
    "'sådan','ehm',\n",
    "'æhm', 'Æhm',\n",
    "'Ehm', 'Sådan'])"
   ]
  },
  {
   "cell_type": "code",
   "execution_count": 6,
   "metadata": {},
   "outputs": [],
   "source": [
    "# Loading data\n",
    "mepsda_df = pd.read_csv('/work/Ccp-MePSDA/output/collected_data/mepsda_df.csv')\n",
    "#mepsda_df.drop(columns='index', inplace=True)\n",
    "mepsda_df['chunked'] = mepsda_df['chunked'].astype(str)\n",
    "\n",
    "# aggregating each text under the same title\n",
    "#mepsda_df = mepsda_df.groupby(['title', 'source']).agg({'text':'\\n'.join})"
   ]
  },
  {
   "cell_type": "code",
   "execution_count": 10,
   "metadata": {},
   "outputs": [
    {
     "name": "stderr",
     "output_type": "stream",
     "text": [
      "No sentence-transformers model found with name Maltehb/danish-bert-botxo. Creating a new one with mean pooling.\n",
      "2024-11-28 15:32:32,870 - BERTopic - Dimensionality - Fitting the dimensionality reduction algorithm\n",
      "2024-11-28 15:34:23,637 - BERTopic - Dimensionality - Completed ✓\n",
      "2024-11-28 15:34:23,647 - BERTopic - Cluster - Start clustering the reduced embeddings\n",
      "2024-11-28 15:35:47,284 - BERTopic - Cluster - Completed ✓\n",
      "2024-11-28 15:35:47,306 - BERTopic - Representation - Extracting topics from clusters using representation models.\n",
      "2024-11-28 15:44:35,356 - BERTopic - Representation - Completed ✓\n"
     ]
    }
   ],
   "source": [
    "# Defining embedding model\n",
    "embedding_model = SentenceTransformer('Maltehb/danish-bert-botxo')\n",
    "# Loading pre-trained embeddings\n",
    "embeddings = np.load('/work/Ccp-MePSDA/modelling/embeddings/embeddings.npy')\n",
    "\n",
    "# define Umap cluster parameters\n",
    "umap_model = UMAP(n_neighbors=3,\n",
    "n_components=23,\n",
    "metric='cosine',\n",
    "min_dist=0.04,\n",
    "low_memory=False,\n",
    "random_state=420)\n",
    "\n",
    "# defining hierarchical density based clustering model\n",
    "hdbscan_model = HDBSCAN(min_cluster_size=95,\n",
    "cluster_selection_method='leaf',\n",
    "metric='euclidean',\n",
    "prediction_data=True)\n",
    "\n",
    "# Define representation model\n",
    "representation_model = KeyBERTInspired()\n",
    "\n",
    "# Define CountVectorizer model\n",
    "vectorizer_model = CountVectorizer(stop_words=stop_words, min_df=2, max_df=0.85, ngram_range=(1, 2))\n",
    "\n",
    "# Iniate model\n",
    "topic_model = BERTopic(umap_model=umap_model,\n",
    "hdbscan_model=hdbscan_model,\n",
    "representation_model=representation_model,\n",
    "embedding_model=embedding_model,\n",
    "vectorizer_model=vectorizer_model,\n",
    "top_n_words=20,\n",
    "verbose=True)\n",
    "\n",
    "# run model on text column\n",
    "topics, probs = topic_model.fit_transform(mepsda_df['chunked'], embeddings)"
   ]
  },
  {
   "cell_type": "code",
   "execution_count": 12,
   "metadata": {},
   "outputs": [],
   "source": [
    "topic_model.save(\"/work/Ccp-MePSDA/modelling/model/mepsda_bertopic\", serialization=\"safetensors\", save_ctfidf=True, save_embedding_model=embedding_model)"
   ]
  }
 ],
 "metadata": {
  "kernelspec": {
   "display_name": "Python 3",
   "language": "python",
   "name": "python3"
  },
  "language_info": {
   "codemirror_mode": {
    "name": "ipython",
    "version": 3
   },
   "file_extension": ".py",
   "mimetype": "text/x-python",
   "name": "python",
   "nbconvert_exporter": "python",
   "pygments_lexer": "ipython3",
   "version": "3.12.3"
  }
 },
 "nbformat": 4,
 "nbformat_minor": 2
}
